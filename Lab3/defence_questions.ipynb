{
 "cells": [
  {
   "cell_type": "markdown",
   "metadata": {
    "collapsed": true,
    "pycharm": {
     "name": "#%% md\n"
    }
   },
   "source": [
    "#### Ответы на вопросы (защита)"
   ]
  },
  {
   "source": [
    "#### 1) Общая - ограничения любые (>=, =, <=), стандартная - только <= или только >=, каноническая - только ="
   ],
   "cell_type": "code",
   "metadata": {
    "collapsed": false
   },
   "execution_count": null,
   "outputs": []
  },
  {
   "source": [
    "#### 2) Методы естественного базиса - ??? (видимо, это когда подходит точка (0, 0, ..., 0) и мы берем ее в качестве исходного допустимого базисного решения). Метод искусственного базиса - вводим искусственные переменные (y_1, ..., y_n), решаем вспомогательную задачу оптимизации функции -y_1 - ... -y_n при ограничении Ax + y = b. Полученное решение является допустимым решением оригинальной задачи"
   ],
   "cell_type": "code",
   "metadata": {
    "collapsed": false
   },
   "execution_count": null,
   "outputs": []
  },
  {
   "source": [
    "#### 3) -"
   ],
   "cell_type": "code",
   "metadata": {
    "collapsed": false,
    "pycharm": {
     "name": "#%% md\n"
    }
   },
   "execution_count": null,
   "outputs": []
  },
  {
   "source": [
    "#### 4) -"
   ],
   "cell_type": "code",
   "metadata": {
    "collapsed": false,
    "pycharm": {
     "name": "#%% md\n"
    }
   },
   "execution_count": null,
   "outputs": []
  },
  {
   "source": [
    "#### 5) -"
   ],
   "cell_type": "code",
   "metadata": {
    "collapsed": false,
    "pycharm": {
     "name": "#%% md\n"
    }
   },
   "execution_count": null,
   "outputs": []
  },
  {
   "source": [
    "#### 6) 1. [x1]: (1, 0, 0, 0), [x3]: (0, 0, 1, 0), [x1, x3]: (i, 0, j, 0), forall i, j: i + j = 1, [x1, x2, x3, x4]: (i, a, j, b): forall i, j: i + j = 1; forall a, b: a + b = 0"
   ],
   "cell_type": "code",
   "metadata": {
    "collapsed": false
   },
   "execution_count": null,
   "outputs": []
  },
  {
   "source": [
    "#### 7) x1 = (11 - 9x3) / 7; x2 = (10 - 5x3) / 7"
   ],
   "cell_type": "code",
   "metadata": {
    "collapsed": false
   },
   "execution_count": null,
   "outputs": []
  },
  {
   "source": [
    "#### 8) Используем это решение как исходное базисное допустимое решение, построим симплексную таблицу и посмотрим, есть ли положительная симплекс разность. Ответ: нет, следовательно, решение оптимально. Также можно было просто решить задачу и убедиться, что ответ совпадает с f(x)."
   ],
   "cell_type": "code",
   "metadata": {
    "collapsed": false
   },
   "execution_count": 1,
   "outputs": []
  }
 ],
 "metadata": {
  "kernelspec": {
   "display_name": "Python 3",
   "language": "python",
   "name": "python3"
  },
  "language_info": {
   "codemirror_mode": {
    "name": "ipython",
    "version": 2
   },
   "file_extension": ".py",
   "mimetype": "text/x-python",
   "name": "python",
   "nbconvert_exporter": "python",
   "pygments_lexer": "ipython2",
   "version": "3.8.3-final"
  }
 },
 "nbformat": 4,
 "nbformat_minor": 0
}